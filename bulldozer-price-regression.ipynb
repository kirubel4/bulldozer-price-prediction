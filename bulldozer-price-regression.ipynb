{
 "cells": [
  {
   "cell_type": "markdown",
   "id": "6ed43b67-a243-4033-b414-ce46db077b30",
   "metadata": {},
   "source": [
    "# Predicting the sale price of Bulldozer using Machine learning\n",
    "\n",
    "In this notebook we're going to go through an example machine learning project with the goal of predicting the sale price of bulldozers.\n",
    "\n",
    "## 1.Problem defination\n",
    "## 2.Data\n",
    "## 3.Evaluation\n",
    "## 4.Features"
   ]
  },
  {
   "cell_type": "code",
   "execution_count": 2,
   "id": "37275d95-f8e1-4969-9031-8c34c7a9409a",
   "metadata": {},
   "outputs": [],
   "source": [
    "import numpy as np\n",
    "import pandas as pd \n",
    "import matplotlib.pyplot as plt\n",
    "import sklearn\n"
   ]
  },
  {
   "cell_type": "code",
   "execution_count": null,
   "id": "0ab05a64-de80-4689-9bc9-ce1dac8073a9",
   "metadata": {},
   "outputs": [],
   "source": []
  }
 ],
 "metadata": {
  "kernelspec": {
   "display_name": "Python 3 (ipykernel)",
   "language": "python",
   "name": "python3"
  },
  "language_info": {
   "codemirror_mode": {
    "name": "ipython",
    "version": 3
   },
   "file_extension": ".py",
   "mimetype": "text/x-python",
   "name": "python",
   "nbconvert_exporter": "python",
   "pygments_lexer": "ipython3",
   "version": "3.13.5"
  }
 },
 "nbformat": 4,
 "nbformat_minor": 5
}
